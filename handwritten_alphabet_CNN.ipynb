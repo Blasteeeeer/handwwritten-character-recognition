{
 "cells": [
  {
   "cell_type": "code",
   "execution_count": 1,
   "id": "b9298e84",
   "metadata": {},
   "outputs": [],
   "source": [
    "import numpy as np\n",
    "import pandas as pd\n",
    "from matplotlib import pyplot as plt\n",
    "import cv2 as cv\n",
    "from keras.models import Sequential\n",
    "from keras.layers import Dense, Dropout, Conv2D, Flatten, MaxPooling2D"
   ]
  },
  {
   "cell_type": "code",
   "execution_count": 2,
   "id": "b415448d",
   "metadata": {},
   "outputs": [],
   "source": [
    "train_df = pd.read_csv(\"A_Z Handwritten Data.csv\").values"
   ]
  },
  {
   "cell_type": "code",
   "execution_count": 3,
   "id": "278abab1",
   "metadata": {},
   "outputs": [],
   "source": [
    "x_train = train_df[:,1:]\n",
    "y_train = train_df[:,:1]"
   ]
  },
  {
   "cell_type": "code",
   "execution_count": 4,
   "id": "c848e8d0",
   "metadata": {},
   "outputs": [
    {
     "data": {
      "text/plain": [
       "(372450, 784)"
      ]
     },
     "execution_count": 4,
     "metadata": {},
     "output_type": "execute_result"
    }
   ],
   "source": [
    "x_train.shape"
   ]
  },
  {
   "cell_type": "code",
   "execution_count": 5,
   "id": "d94ec0bb",
   "metadata": {},
   "outputs": [],
   "source": [
    "x_train = np.resize(x_train,(372450,28,28))"
   ]
  },
  {
   "cell_type": "code",
   "execution_count": 6,
   "id": "234e5351",
   "metadata": {},
   "outputs": [
    {
     "data": {
      "text/plain": [
       "<matplotlib.image.AxesImage at 0x19d43b68a60>"
      ]
     },
     "execution_count": 6,
     "metadata": {},
     "output_type": "execute_result"
    },
    {
     "data": {
      "image/png": "[encoded data removed]",
      "text/plain": [
       "<Figure size 432x288 with 1 Axes>"
      ]
     },
     "metadata": {
      "needs_background": "light"
     },
     "output_type": "display_data"
    }
   ],
   "source": [
    "plt.imshow(x_train[13868])"
   ]
  },
  {
   "cell_type": "code",
   "execution_count": 7,
   "id": "a627c1ff",
   "metadata": {},
   "outputs": [
    {
     "data": {
      "text/plain": [
       "array([9], dtype=int64)"
      ]
     },
     "execution_count": 7,
     "metadata": {},
     "output_type": "execute_result"
    }
   ],
   "source": [
    "y_train[90000]"
   ]
  },
  {
   "cell_type": "code",
   "execution_count": 8,
   "id": "52200fd7",
   "metadata": {},
   "outputs": [],
   "source": [
    "x_train = np.resize(x_train,(372450,28,28,1))"
   ]
  },
  {
   "cell_type": "code",
   "execution_count": 9,
   "id": "6a308b12",
   "metadata": {},
   "outputs": [
    {
     "data": {
      "text/plain": [
       "(372450, 28, 28, 1)"
      ]
     },
     "execution_count": 9,
     "metadata": {},
     "output_type": "execute_result"
    }
   ],
   "source": [
    "x_train.shape"
   ]
  },
  {
   "cell_type": "code",
   "execution_count": 10,
   "id": "14c8d997",
   "metadata": {},
   "outputs": [],
   "source": [
    "x_train = x_train / 255."
   ]
  },
  {
   "cell_type": "code",
   "execution_count": null,
   "id": "8ab67c93",
   "metadata": {},
   "outputs": [],
   "source": []
  },
  {
   "cell_type": "code",
   "execution_count": null,
   "id": "d9997eef",
   "metadata": {},
   "outputs": [],
   "source": []
  },
  {
   "cell_type": "code",
   "execution_count": 12,
   "id": "d13f2341",
   "metadata": {},
   "outputs": [],
   "source": [
    "modl = Sequential()\n",
    "\n",
    "modl.add(Conv2D(filters = 28, kernel_size = (3,3), input_shape = ((28, 28, 1))))\n",
    "modl.add(MaxPooling2D(pool_size = (2,2)))\n",
    "\n",
    "modl.add(Flatten())\n",
    "\n",
    "modl.add(Dense(128, activation = 'relu'))\n",
    "modl.add(Dropout(0.2))\n",
    "\n",
    "\n",
    "modl.add(Dense(26, activation = 'softmax'))\n",
    "\n",
    "modl.compile(optimizer = 'adam', loss = \"sparse_categorical_crossentropy\", metrics = ['accuracy'])"
   ]
  },
  {
   "cell_type": "code",
   "execution_count": 13,
   "id": "54851a99",
   "metadata": {},
   "outputs": [
    {
     "name": "stdout",
     "output_type": "stream",
     "text": [
      "Epoch 1/10\n",
      "11640/11640 [==============================] - 42s 2ms/step - loss: 0.2239 - accuracy: 0.9358\n",
      "Epoch 2/10\n",
      "11640/11640 [==============================] - 24s 2ms/step - loss: 0.1072 - accuracy: 0.9689\n",
      "Epoch 3/10\n",
      "11640/11640 [==============================] - 25s 2ms/step - loss: 0.0863 - accuracy: 0.9744\n",
      "Epoch 4/10\n",
      "11640/11640 [==============================] - 24s 2ms/step - loss: 0.0727 - accuracy: 0.9779\n",
      "Epoch 5/10\n",
      "11640/11640 [==============================] - 24s 2ms/step - loss: 0.0644 - accuracy: 0.9803\n",
      "Epoch 6/10\n",
      "11640/11640 [==============================] - 25s 2ms/step - loss: 0.0581 - accuracy: 0.9820\n",
      "Epoch 7/10\n",
      "11640/11640 [==============================] - 26s 2ms/step - loss: 0.0528 - accuracy: 0.9834\n",
      "Epoch 8/10\n",
      "11640/11640 [==============================] - 26s 2ms/step - loss: 0.0495 - accuracy: 0.9845\n",
      "Epoch 9/10\n",
      "11640/11640 [==============================] - 25s 2ms/step - loss: 0.0472 - accuracy: 0.9854\n",
      "Epoch 10/10\n",
      "11640/11640 [==============================] - 26s 2ms/step - loss: 0.0454 - accuracy: 0.9855\n"
     ]
    },
    {
     "data": {
      "text/plain": [
       "<keras.callbacks.History at 0x19d3bb70760>"
      ]
     },
     "execution_count": 13,
     "metadata": {},
     "output_type": "execute_result"
    }
   ],
   "source": [
    "modl.fit(x = x_train,y = y_train, epochs = 10)"
   ]
  },
  {
   "cell_type": "code",
   "execution_count": 14,
   "id": "649166cf",
   "metadata": {},
   "outputs": [],
   "source": [
    "ch = ['A','B','C','D','E','F','G','H','I','J','K','L','M','N','O','P','Q','R','S','T','U','V','W','X','Y','Z']"
   ]
  },
  {
   "cell_type": "code",
   "execution_count": 16,
   "id": "0b586461",
   "metadata": {},
   "outputs": [
    {
     "data": {
      "image/png": "[encoded data removed]",
      "text/plain": [
       "<Figure size 432x288 with 1 Axes>"
      ]
     },
     "metadata": {
      "needs_background": "light"
     },
     "output_type": "display_data"
    },
    {
     "name": "stdout",
     "output_type": "stream",
     "text": [
      "charcter is -  U\n"
     ]
    }
   ],
   "source": [
    "img = cv.imread(\"character/u.jpg\")\n",
    "gray = cv.cvtColor(img, cv.COLOR_BGR2GRAY)\n",
    "gray = cv.resize(gray,(28,28))\n",
    "gray = gray/255.\n",
    "gray = 1 - gray\n",
    "\n",
    "plt.imshow(gray)\n",
    "plt.show()\n",
    "\n",
    "gray = np.resize(gray,(1,28,28,1))\n",
    "print(\"charcter is - \",ch[np.argmax(modl.predict(gray))])"
   ]
  },
  {
   "cell_type": "code",
   "execution_count": 18,
   "id": "1dcade03",
   "metadata": {},
   "outputs": [
    {
     "data": {
      "text/plain": [
       "array([[0.0000000e+00, 5.4062091e-33, 5.9033444e-25, 1.4584752e-23,\n",
       "        2.8610950e-38, 0.0000000e+00, 0.0000000e+00, 7.2275593e-15,\n",
       "        0.0000000e+00, 1.1225945e-15, 0.0000000e+00, 0.0000000e+00,\n",
       "        2.0105815e-25, 6.5061506e-10, 1.3644915e-18, 2.2483004e-27,\n",
       "        0.0000000e+00, 0.0000000e+00, 2.6751971e-32, 6.0552796e-29,\n",
       "        1.0000000e+00, 4.2622375e-16, 1.8483467e-16, 1.3499046e-37,\n",
       "        1.8440772e-18, 0.0000000e+00]], dtype=float32)"
      ]
     },
     "execution_count": 18,
     "metadata": {},
     "output_type": "execute_result"
    }
   ],
   "source": [
    "modl.predict(gray)"
   ]
  },
  {
   "cell_type": "code",
   "execution_count": 21,
   "id": "87a96a11",
   "metadata": {},
   "outputs": [
    {
     "name": "stdout",
     "output_type": "stream",
     "text": [
      "Model: \"sequential_1\"\n",
      "_________________________________________________________________\n",
      "Layer (type)                 Output Shape              Param #   \n",
      "=================================================================\n",
      "conv2d_6 (Conv2D)            (None, 26, 26, 28)        280       \n",
      "_________________________________________________________________\n",
      "max_pooling2d_2 (MaxPooling2 (None, 13, 13, 28)        0         \n",
      "_________________________________________________________________\n",
      "flatten (Flatten)            (None, 4732)              0         \n",
      "_________________________________________________________________\n",
      "dense (Dense)                (None, 128)               605824    \n",
      "_________________________________________________________________\n",
      "dropout (Dropout)            (None, 128)               0         \n",
      "_________________________________________________________________\n",
      "dense_1 (Dense)              (None, 26)                3354      \n",
      "=================================================================\n",
      "Total params: 609,458\n",
      "Trainable params: 609,458\n",
      "Non-trainable params: 0\n",
      "_________________________________________________________________\n"
     ]
    }
   ],
   "source": [
    "modl.summary()"
   ]
  }
 ],
 "metadata": {
  "kernelspec": {
   "display_name": "Python 3 (ipykernel)",
   "language": "python",
   "name": "python3"
  },
  "language_info": {
   "codemirror_mode": {
    "name": "ipython",
    "version": 3
   },
   "file_extension": ".py",
   "mimetype": "text/x-python",
   "name": "python",
   "nbconvert_exporter": "python",
   "pygments_lexer": "ipython3",
   "version": "3.9.7"
  }
 },
 "nbformat": 4,
 "nbformat_minor": 5
}
